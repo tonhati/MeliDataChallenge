{
 "cells": [
  {
   "cell_type": "code",
   "execution_count": 1,
   "metadata": {},
   "outputs": [],
   "source": [
    "import numpy as np\n",
    "import pandas as pd\n",
    "import tweedie\n",
    "import scipy.stats as st\n",
    "\n",
    "\n",
    "\n",
    "def pred_list_to_prob_array(pred_list, cumulative=False, total_days=30):\n",
    "    prob_array = np.zeros((pred_list.shape[0], total_days))\n",
    "    pred_list = np.clip(pred_list, 1, total_days)\n",
    "    for row, e in enumerate(pred_list):\n",
    "        if cumulative:\n",
    "            prob_array[row, int(e-1)] = 1.\n",
    "        else:\n",
    "            prob_array[row, int(e-1):] = 1.\n",
    "        \n",
    "    if cumulative:\n",
    "        prob_array = prob_array+1e-4 \n",
    "        prob_array = np.divide(prob_array, prob_array.sum(axis=1).reshape(-1,1))\n",
    "        prob_array = prob_array.cumsum(axis=1)\n",
    "\n",
    "    return prob_array\n",
    "\n",
    "def pred_list_to_prob_array_mc(pred_list, total_days=30):\n",
    "    prob_array = np.zeros((pred_list.shape[0], total_days))\n",
    "    pred_list = np.clip(pred_list, 1, total_days)\n",
    "    for row, e in enumerate(pred_list):\n",
    "        prob_array[row, int(e):] = 1.\n",
    "        \n",
    "    return prob_array\n",
    "\n",
    "def rps(y, p, probs=False, total_days=30):\n",
    "    y_array = pred_list_to_prob_array(y, total_days=total_days)\n",
    "    if probs:\n",
    "        p_array = p.cumsum(axis=1)\n",
    "    else:\n",
    "        p_array = pred_list_to_prob_array(p, cumulative=True, total_days=total_days)\n",
    "    return ((p_array - y_array)**2).sum(axis=1).mean()\n",
    "\n",
    "\n",
    "def rps_mc(y, p, probs=False, total_days=30):\n",
    "    y_array = pred_list_to_prob_array_mc(y, total_days=total_days)\n",
    "    if probs:\n",
    "        p_array = p.cumsum(axis=1)\n",
    "    return ((p_array - y_array)**2).sum(axis=1).mean()\n",
    "\n",
    "def rps_raw(y, p, probs=False):\n",
    "    y_array = pred_list_to_prob_array(y)\n",
    "    if probs:\n",
    "        p_array = p.cumsum(axis=1)\n",
    "    else:\n",
    "        p_array = pred_list_to_prob_array(p, cumulative=True)\n",
    "    return ((p_array - y_array)**2).sum(axis=1)\n",
    "\n",
    "\n",
    "def pred_list_to_tweedie(pred_list, phi=1, p=1.5):\n",
    "    # has a bug in the first day, it's the wrong probability, but it's worse without the bug\n",
    "    distros = dict()\n",
    "    for mu in range(1,31):\n",
    "        distros[mu] = [tweedie.tweedie(p=p, mu=mu, phi=phi).cdf(days) for days in range(1,31,1)]\n",
    "        distros[mu][1:] = np.diff(distros[mu])\n",
    "        distros[mu] = np.round(distros[mu] / np.sum(distros[mu]), 4)\n",
    "    \n",
    "    prob_array = np.zeros((pred_list.shape[0], 30))\n",
    "\n",
    "    for row, mu in enumerate(pred_list):\n",
    "        prob_array[row, :] = distros[mu]#.cumsum()\n",
    "        #prob_array[row, -1] = 1.\n",
    "\n",
    "    return prob_array\n",
    "\n",
    "\n",
    "\n",
    "def pred_list_to_distro(pred_list, wei=False, total_days=30, phi=2, power=1.5):\n",
    "    distros = dict()\n",
    "    for mu in range(1,total_days+1):\n",
    "        if wei:\n",
    "            distros[mu] = [st.norm.cdf(days, loc=mu, scale=1) for days in range(0,total_days+1,1)]\n",
    "        else:\n",
    "            distros[mu] = [tweedie.tweedie(p=power, mu=mu, phi=phi).cdf(days) for days in range(0,total_days+1,1)]\n",
    "        #distros[mu] = [st.lognorm.cdf(days, s=0.5, loc=mu, scale=0.5) for days in range(0,31,1)]\n",
    "        #distros[mu] = [st.expon.cdf(days, loc=mu, scale=0.01) for days in range(0,31,1)]\n",
    "        #distros[mu] = [st.gengamma.cdf(days, loc=mu, scale=1, a=mu, c=1) for days in range(1,31,1)]\n",
    "        if np.sum(distros[mu]) > 0:\n",
    "            distros[mu] = np.diff(distros[mu])\n",
    "            distros[mu] = np.round(distros[mu] / np.sum(distros[mu]), 4)\n",
    "        else:\n",
    "            distros[mu] = distros[mu][1:]\n",
    "            distros[mu][-1] = 1\n",
    "        \n",
    "    \n",
    "    prob_array = np.zeros((pred_list.shape[0], total_days))\n",
    "\n",
    "    for row, mu in enumerate(pred_list):\n",
    "        prob_array[row, :] = distros[mu]#.cumsum()\n",
    "        #prob_array[row, -1] = 1.\n",
    "\n",
    "    return prob_array\n",
    "\n",
    "def pred_list_to_distro_smooth(pred_list, total_days=30, phi=2, power=1.5, smooth_factor=0.3):\n",
    "    distros = dict()\n",
    "    for mu in range(1,total_days+1):\n",
    "        distros[mu] = [tweedie.tweedie(p=power, mu=mu, phi=phi).cdf(days) for days in range(0,total_days+1,1)]\n",
    "        if np.sum(distros[mu]) > 0:\n",
    "            distros[mu] = np.diff(distros[mu])\n",
    "            distros[mu] = np.round(distros[mu] / np.sum(distros[mu]), 4)\n",
    "        else:\n",
    "            distros[mu] = distros[mu][1:]\n",
    "            distros[mu][-1] = 1\n",
    "        \n",
    "    \n",
    "    prob_array = np.zeros((pred_list.shape[0], total_days))\n",
    "\n",
    "    for row, mu in enumerate(pred_list):\n",
    "        if mu == 1:\n",
    "            prob_array[row, :] = (1-smooth_factor)*distros[mu] + smooth_factor*distros[mu+1]\n",
    "        elif mu == total_days:\n",
    "            prob_array[row, :] = smooth_factor*distros[mu-1] + (1-smooth_factor)*distros[mu]\n",
    "        else:\n",
    "            prob_array[row, :] = (smooth_factor/2)*distros[mu-1] + (1-smooth_factor)*distros[mu] + (smooth_factor/2)*distros[mu+1]\n",
    "\n",
    "    return prob_array\n",
    "\n",
    "from sklearn.model_selection import GroupKFold, KFold\n",
    "from sklearn.linear_model import LinearRegression\n",
    "from sklearn.ensemble import RandomForestRegressor\n",
    "from sklearn.metrics import mean_squared_error\n",
    "from xgboost import XGBRegressor\n",
    "import tweedie\n",
    "from importlib import reload\n",
    "from skopt import gp_minimize\n"
   ]
  },
  {
   "cell_type": "code",
   "execution_count": 2,
   "metadata": {},
   "outputs": [],
   "source": [
    "train = pd.read_parquet('train_data.parquet')\n",
    "train['date'] = pd.to_datetime(train['date'])\n",
    "train['fold'] = train['date'].dt.month"
   ]
  },
  {
   "cell_type": "code",
   "execution_count": 3,
   "metadata": {},
   "outputs": [],
   "source": [
    "test = pd.read_csv('test_data.csv', index_col = 0).squeeze() \n",
    "\n",
    "# what is the .squeeze?"
   ]
  },
  {
   "cell_type": "code",
   "execution_count": 4,
   "metadata": {},
   "outputs": [
    {
     "data": {
      "text/plain": [
       "sku                                int64\n",
       "date                      datetime64[ns]\n",
       "sold_quantity                      int64\n",
       "current_price                    float64\n",
       "currency                          object\n",
       "listing_type                      object\n",
       "shipping_logistic_type            object\n",
       "shipping_payment                  object\n",
       "minutes_active                   float64\n",
       "fold                               int64\n",
       "dtype: object"
      ]
     },
     "execution_count": 4,
     "metadata": {},
     "output_type": "execute_result"
    }
   ],
   "source": [
    "train.dtypes"
   ]
  },
  {
   "cell_type": "code",
   "execution_count": 5,
   "metadata": {},
   "outputs": [
    {
     "data": {
      "text/html": [
       "<div>\n",
       "<style scoped>\n",
       "    .dataframe tbody tr th:only-of-type {\n",
       "        vertical-align: middle;\n",
       "    }\n",
       "\n",
       "    .dataframe tbody tr th {\n",
       "        vertical-align: top;\n",
       "    }\n",
       "\n",
       "    .dataframe thead th {\n",
       "        text-align: right;\n",
       "    }\n",
       "</style>\n",
       "<table border=\"1\" class=\"dataframe\">\n",
       "  <thead>\n",
       "    <tr style=\"text-align: right;\">\n",
       "      <th></th>\n",
       "      <th>sku</th>\n",
       "      <th>date</th>\n",
       "      <th>sold_quantity</th>\n",
       "      <th>current_price</th>\n",
       "      <th>currency</th>\n",
       "      <th>listing_type</th>\n",
       "      <th>shipping_logistic_type</th>\n",
       "      <th>shipping_payment</th>\n",
       "      <th>minutes_active</th>\n",
       "      <th>fold</th>\n",
       "    </tr>\n",
       "  </thead>\n",
       "  <tbody>\n",
       "    <tr>\n",
       "      <th>0</th>\n",
       "      <td>464801</td>\n",
       "      <td>2021-02-01</td>\n",
       "      <td>0</td>\n",
       "      <td>156.78</td>\n",
       "      <td>REA</td>\n",
       "      <td>classic</td>\n",
       "      <td>fulfillment</td>\n",
       "      <td>free_shipping</td>\n",
       "      <td>1440.0</td>\n",
       "      <td>2</td>\n",
       "    </tr>\n",
       "    <tr>\n",
       "      <th>1</th>\n",
       "      <td>464801</td>\n",
       "      <td>2021-02-02</td>\n",
       "      <td>0</td>\n",
       "      <td>156.78</td>\n",
       "      <td>REA</td>\n",
       "      <td>classic</td>\n",
       "      <td>fulfillment</td>\n",
       "      <td>free_shipping</td>\n",
       "      <td>1440.0</td>\n",
       "      <td>2</td>\n",
       "    </tr>\n",
       "    <tr>\n",
       "      <th>2</th>\n",
       "      <td>464801</td>\n",
       "      <td>2021-02-03</td>\n",
       "      <td>0</td>\n",
       "      <td>156.78</td>\n",
       "      <td>REA</td>\n",
       "      <td>classic</td>\n",
       "      <td>fulfillment</td>\n",
       "      <td>free_shipping</td>\n",
       "      <td>1440.0</td>\n",
       "      <td>2</td>\n",
       "    </tr>\n",
       "    <tr>\n",
       "      <th>3</th>\n",
       "      <td>464801</td>\n",
       "      <td>2021-02-04</td>\n",
       "      <td>0</td>\n",
       "      <td>156.78</td>\n",
       "      <td>REA</td>\n",
       "      <td>classic</td>\n",
       "      <td>fulfillment</td>\n",
       "      <td>free_shipping</td>\n",
       "      <td>1440.0</td>\n",
       "      <td>2</td>\n",
       "    </tr>\n",
       "    <tr>\n",
       "      <th>4</th>\n",
       "      <td>464801</td>\n",
       "      <td>2021-02-05</td>\n",
       "      <td>1</td>\n",
       "      <td>156.78</td>\n",
       "      <td>REA</td>\n",
       "      <td>classic</td>\n",
       "      <td>fulfillment</td>\n",
       "      <td>free_shipping</td>\n",
       "      <td>1440.0</td>\n",
       "      <td>2</td>\n",
       "    </tr>\n",
       "  </tbody>\n",
       "</table>\n",
       "</div>"
      ],
      "text/plain": [
       "      sku       date  sold_quantity  current_price currency listing_type  \\\n",
       "0  464801 2021-02-01              0         156.78      REA      classic   \n",
       "1  464801 2021-02-02              0         156.78      REA      classic   \n",
       "2  464801 2021-02-03              0         156.78      REA      classic   \n",
       "3  464801 2021-02-04              0         156.78      REA      classic   \n",
       "4  464801 2021-02-05              1         156.78      REA      classic   \n",
       "\n",
       "  shipping_logistic_type shipping_payment  minutes_active  fold  \n",
       "0            fulfillment    free_shipping          1440.0     2  \n",
       "1            fulfillment    free_shipping          1440.0     2  \n",
       "2            fulfillment    free_shipping          1440.0     2  \n",
       "3            fulfillment    free_shipping          1440.0     2  \n",
       "4            fulfillment    free_shipping          1440.0     2  "
      ]
     },
     "execution_count": 5,
     "metadata": {},
     "output_type": "execute_result"
    }
   ],
   "source": [
    "train.head()"
   ]
  },
  {
   "cell_type": "code",
   "execution_count": 6,
   "metadata": {},
   "outputs": [],
   "source": [
    "def gen_tr_ts():\n",
    "    for fold in [2,3]:\n",
    "        ts = train[train['fold'] != fold]['date'].max()\n",
    "        ts = train[(train['fold'] != fold) & (train['date'] == ts)].index\n",
    "        yield train.index[train['fold'] == fold], ts, fold\n",
    "        \n",
    "# Separates Between March and February"
   ]
  },
  {
   "cell_type": "code",
   "execution_count": 7,
   "metadata": {},
   "outputs": [],
   "source": [
    "def gen_p(na=30., power=1.5):\n",
    "    dts = list()\n",
    "    for tr,ts, fold in gen_tr_ts():\n",
    "\n",
    "        ## EVAL\n",
    "        pp = train[train['fold'] != fold][['sku', 'date', 'sold_quantity']]\n",
    "        pp['stock'] = pp['sku'].map(test)\n",
    "        pp = pp.sort_values([\"sku\",\"date\"])\n",
    "        pp['cumulative_y'] = pp.groupby(\"sku\")['sold_quantity'].cumsum()\n",
    "\n",
    "        pp = pp.dropna(subset=['stock'])\n",
    "        pp['stockout_y'] = pp['cumulative_y'] >= pp['stock']\n",
    "\n",
    "        first_so_y = pp[pp['stockout_y']].groupby(\"sku\").first()\n",
    "        days_to_so_y = (first_so_y[\"date\"] - pp[\"date\"].min()) / np.timedelta64(1, 'D')\n",
    "        days_to_so_y = days_to_so_y.reindex(pp['sku'].unique()).fillna(na).astype(int).clip(1)\n",
    "        dts.append(days_to_so_y)\n",
    "\n",
    "    m = pred_list_to_distro(dts[0], wei=False, total_days=max(na, 30), phi=2, power=power)\n",
    "    f = pred_list_to_distro(dts[1].reindex(dts[0].index).fillna(dts[0]), wei=False, total_days=max(na, 30), phi=2, power=power)\n",
    "\n",
    "    m = pd.DataFrame(m,index=dts[0].index)\n",
    "    f = pd.DataFrame(f,index=dts[0].index)\n",
    "\n",
    "    p = (m + f)/2\n",
    "\n",
    "    p = p.div(p.sum(axis=1), axis=0)\n",
    "\n",
    "    p = p.loc[test.index]\n",
    "    \n",
    "    p = p.round(4)\n",
    "\n",
    "    return p"
   ]
  },
  {
   "cell_type": "code",
   "execution_count": 8,
   "metadata": {},
   "outputs": [],
   "source": [
    "r = {i:gen_p(30, power=i/10) for i in range(11,20,1)}"
   ]
  },
  {
   "cell_type": "code",
   "execution_count": 9,
   "metadata": {},
   "outputs": [
    {
     "data": {
      "text/plain": [
       "<AxesSubplot:>"
      ]
     },
     "execution_count": 9,
     "metadata": {},
     "output_type": "execute_result"
    },
    {
     "data": {
      "image/png": "[encoded data removed]",
      "text/plain": [
       "<Figure size 432x288 with 1 Axes>"
      ]
     },
     "metadata": {
      "needs_background": "light"
     },
     "output_type": "display_data"
    }
   ],
   "source": [
    "r[11].mean(axis = 0).plot()"
   ]
  },
  {
   "cell_type": "code",
   "execution_count": 11,
   "metadata": {},
   "outputs": [
    {
     "data": {
      "text/plain": [
       "<AxesSubplot:>"
      ]
     },
     "execution_count": 11,
     "metadata": {},
     "output_type": "execute_result"
    },
    {
     "data": {
      "image/png": "[encoded data removed]",
      "text/plain": [
       "<Figure size 432x288 with 1 Axes>"
      ]
     },
     "metadata": {
      "needs_background": "light"
     },
     "output_type": "display_data"
    }
   ],
   "source": [
    "r[12].mean(axis = 0).plot()"
   ]
  },
  {
   "cell_type": "code",
   "execution_count": 15,
   "metadata": {},
   "outputs": [
    {
     "data": {
      "text/plain": [
       "<AxesSubplot:>"
      ]
     },
     "execution_count": 15,
     "metadata": {},
     "output_type": "execute_result"
    },
    {
     "data": {
      "image/png": "[encoded data removed]",
      "text/plain": [
       "<Figure size 432x288 with 1 Axes>"
      ]
     },
     "metadata": {
      "needs_background": "light"
     },
     "output_type": "display_data"
    }
   ],
   "source": [
    "r[13].mean(axis = 0).plot()"
   ]
  },
  {
   "cell_type": "code",
   "execution_count": null,
   "metadata": {},
   "outputs": [],
   "source": [
    "r[13].round(4).to_csv('JoaoTonhatiSubmition.csv.gz', header = 'False', index = 'False', compression = 'gzip')"
   ]
  }
 ],
 "metadata": {
  "kernelspec": {
   "display_name": "Python 3",
   "language": "python",
   "name": "python3"
  },
  "language_info": {
   "codemirror_mode": {
    "name": "ipython",
    "version": 3
   },
   "file_extension": ".py",
   "mimetype": "text/x-python",
   "name": "python",
   "nbconvert_exporter": "python",
   "pygments_lexer": "ipython3",
   "version": "3.8.8"
  }
 },
 "nbformat": 4,
 "nbformat_minor": 4
}
